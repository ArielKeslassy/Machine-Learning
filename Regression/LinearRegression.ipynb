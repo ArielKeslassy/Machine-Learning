{
 "cells": [
  {
   "cell_type": "markdown",
   "metadata": {},
   "source": [
    "Created on Wed Oct 14 18:45:24 2020\n",
    "@author: ariel\n",
    "\n",
    "# Implenting Simple Linear Regression from scratch."
   ]
  },
  {
   "cell_type": "markdown",
   "metadata": {},
   "source": [
    "## Background:\n",
    "\n",
    "- Problem type: regression\n",
    "    \n",
    "* Assumptions on data: this method assumes **linear relationship** between the dependent (y)\n",
    "    and independent (x) variables.\n",
    "    there is also **one** variable of each, and they follow the equation: _y=ax+b_ where a,b are constants.\n",
    "        \n",
    "* Algorithm:\n",
    "    * the goal of the algorithm is to create the trend line that is closest to all of the\n",
    "    data points. the distance from all data points is our Loss Function and is calculated by the\n",
    "    Mean of Squared Errors: MSE (error also called residuals). the errors are squared so we can handle\n",
    "    positive numbers, while emphasising the error rate for each prediction.\n",
    "    by minimizing the loss function, we get the best trend line to predict next values.\n",
    "    this is done by the derivitive of our Loss function:\n",
    "    **proof: https://youtu.be/mIx2Oj5y9Q8**\n",
    "    \n",
    "    later we will calculate the covariance, which states how much do two variables change together.\n",
    "    this will allow us to calculate the coefficients a,b that will determine the trend line!\n",
    "    the slope (a) is calculated by dividing the covariance by the variance:\n",
    "    **proof: https://youtu.be/ualmyZiPs9w**\n",
    "    \n",
    "    the intercept (b) is calculated by the mean of independent variable values, minus the product of the mean of independent variable by the slope (a)\n",
    "    **proof: https://youtu.be/8RSTQl0bQuw**\n",
    "    \n",
    "* Assesing algorithm's performance: using RMSE (root of Mean of Squared Errors), which gives\n",
    "    the standard deviation of the residuals (prediction errors). it tells us how concentrated\n",
    "    the data is around our trend line of predictions.\n",
    "    we will also use r-squared, which represents the proportion of the variance\n",
    "    for a dependent variable that's explained by an independent variable or variables\n",
    "    in our regression model. \n",
    "    **proof:: https://youtu.be/Fc5t_5r_7IU**\n",
    "    \n",
    "## The Dataset\n",
    "* Salary of employees by thier years of experience. the file's format is CSV and contains 31 lines including headers"
   ]
  },
  {
   "cell_type": "markdown",
   "metadata": {},
   "source": [
    "##### importing the dataset"
   ]
  },
  {
   "cell_type": "code",
   "execution_count": 24,
   "metadata": {},
   "outputs": [],
   "source": [
    "import matplotlib.pyplot as plt\n",
    "import pandas as pd\n",
    "dataset = pd.read_csv(r'C:\\Users\\ariel\\Documents\\ML implementations\\Simple Linear Regression\\Salary_Data.csv')"
   ]
  },
  {
   "cell_type": "code",
   "execution_count": 25,
   "metadata": {},
   "outputs": [
    {
     "data": {
      "text/html": [
       "<div>\n",
       "<style scoped>\n",
       "    .dataframe tbody tr th:only-of-type {\n",
       "        vertical-align: middle;\n",
       "    }\n",
       "\n",
       "    .dataframe tbody tr th {\n",
       "        vertical-align: top;\n",
       "    }\n",
       "\n",
       "    .dataframe thead th {\n",
       "        text-align: right;\n",
       "    }\n",
       "</style>\n",
       "<table border=\"1\" class=\"dataframe\">\n",
       "  <thead>\n",
       "    <tr style=\"text-align: right;\">\n",
       "      <th></th>\n",
       "      <th>YearsExperience</th>\n",
       "      <th>Salary</th>\n",
       "    </tr>\n",
       "  </thead>\n",
       "  <tbody>\n",
       "    <tr>\n",
       "      <th>0</th>\n",
       "      <td>1.1</td>\n",
       "      <td>39343.0</td>\n",
       "    </tr>\n",
       "    <tr>\n",
       "      <th>1</th>\n",
       "      <td>1.3</td>\n",
       "      <td>46205.0</td>\n",
       "    </tr>\n",
       "    <tr>\n",
       "      <th>2</th>\n",
       "      <td>1.5</td>\n",
       "      <td>37731.0</td>\n",
       "    </tr>\n",
       "    <tr>\n",
       "      <th>3</th>\n",
       "      <td>2.0</td>\n",
       "      <td>43525.0</td>\n",
       "    </tr>\n",
       "    <tr>\n",
       "      <th>4</th>\n",
       "      <td>2.2</td>\n",
       "      <td>39891.0</td>\n",
       "    </tr>\n",
       "  </tbody>\n",
       "</table>\n",
       "</div>"
      ],
      "text/plain": [
       "   YearsExperience   Salary\n",
       "0              1.1  39343.0\n",
       "1              1.3  46205.0\n",
       "2              1.5  37731.0\n",
       "3              2.0  43525.0\n",
       "4              2.2  39891.0"
      ]
     },
     "execution_count": 25,
     "metadata": {},
     "output_type": "execute_result"
    }
   ],
   "source": [
    "dataset.head()"
   ]
  },
  {
   "cell_type": "markdown",
   "metadata": {},
   "source": [
    "##### x, y split"
   ]
  },
  {
   "cell_type": "code",
   "execution_count": 26,
   "metadata": {},
   "outputs": [],
   "source": [
    "x = dataset.iloc[:, 0].values\n",
    "y = dataset.iloc[:, 1].values\n",
    "from sklearn.model_selection import train_test_split\n",
    "xTrain, xTest, yTrain, yTest = train_test_split(x, y, test_size = 1/3, random_state = 0)"
   ]
  },
  {
   "cell_type": "markdown",
   "metadata": {},
   "source": [
    "##### plotting the data"
   ]
  },
  {
   "cell_type": "code",
   "execution_count": 27,
   "metadata": {},
   "outputs": [
    {
     "data": {
      "text/plain": [
       "<function matplotlib.pyplot.show(*args, **kw)>"
      ]
     },
     "execution_count": 27,
     "metadata": {},
     "output_type": "execute_result"
    },
    {
     "data": {
      "image/png": "[encoded data removed]",
      "text/plain": [
       "<Figure size 432x288 with 1 Axes>"
      ]
     },
     "metadata": {
      "needs_background": "light"
     },
     "output_type": "display_data"
    }
   ],
   "source": [
    "plt.scatter(x, y, color = 'red')\n",
    "plt.title('Salary VS Experience')\n",
    "plt.xlabel('Years of experince')\n",
    "plt.ylabel('Salary')\n",
    "plt.show"
   ]
  },
  {
   "cell_type": "markdown",
   "metadata": {},
   "source": [
    "## The Data seems to fit the Linear Regression Assumption. Let's build the model!"
   ]
  },
  {
   "cell_type": "markdown",
   "metadata": {},
   "source": [
    "##### calculate MSE"
   ]
  },
  {
   "cell_type": "code",
   "execution_count": 28,
   "metadata": {},
   "outputs": [],
   "source": [
    "def Mean(values):\n",
    "    return sum(values) / len(values)\n",
    "\n",
    "def SumOfSquaredErrors(values, mean):\n",
    "    return sum([(value - mean)**2 for value in values])"
   ]
  },
  {
   "cell_type": "markdown",
   "metadata": {},
   "source": [
    "##### calculate variance"
   ]
  },
  {
   "cell_type": "code",
   "execution_count": 29,
   "metadata": {},
   "outputs": [],
   "source": [
    "def Variance(x):\n",
    "    meanX = Mean(x)\n",
    "    return SumOfSquaredErrors(x, meanX)"
   ]
  },
  {
   "cell_type": "markdown",
   "metadata": {},
   "source": [
    "##### calculate covariance between x and y"
   ]
  },
  {
   "cell_type": "code",
   "execution_count": 30,
   "metadata": {},
   "outputs": [],
   "source": [
    "def Covariance(x, meanX, y, meanY):\n",
    "\tcovar = 0.0\n",
    "\tfor i in range(len(x)):\n",
    "\t\tcovar += ((x[i] - meanX) * (y[i] - meanY))\n",
    "\treturn covar"
   ]
  },
  {
   "cell_type": "markdown",
   "metadata": {},
   "source": [
    "##### calculate coefficients"
   ]
  },
  {
   "cell_type": "code",
   "execution_count": 31,
   "metadata": {},
   "outputs": [],
   "source": [
    "def Coefficients(covar, varianceX, meanX, meanY):\n",
    "    a = covar / varianceX #slope\n",
    "    b = meanY - (a * meanX)\n",
    "    return [a, b]"
   ]
  },
  {
   "cell_type": "markdown",
   "metadata": {},
   "source": [
    "##### create a prediction trend-line using the calculated coefficients"
   ]
  },
  {
   "cell_type": "code",
   "execution_count": 32,
   "metadata": {},
   "outputs": [],
   "source": [
    "def TrendLinePredict(a, b, x):\n",
    "    y = a*x + b\n",
    "    return y"
   ]
  },
  {
   "cell_type": "markdown",
   "metadata": {},
   "source": [
    "##### executing previous steps"
   ]
  },
  {
   "cell_type": "code",
   "execution_count": 33,
   "metadata": {},
   "outputs": [],
   "source": [
    "meanX = Mean(xTrain)\n",
    "meanY = Mean(yTrain)\n",
    "covar = Covariance(xTrain, meanX, yTrain, meanY)\n",
    "varianceX = Variance(xTrain)\n",
    "coefficients = Coefficients(covar, varianceX, meanX, meanY)\n",
    "trendLine = TrendLinePredict(coefficients[0], coefficients[1], xTrain)"
   ]
  },
  {
   "cell_type": "markdown",
   "metadata": {},
   "source": [
    "## Now we have the trend line! let's plot it to see if it makes a good prediction for our data"
   ]
  },
  {
   "cell_type": "markdown",
   "metadata": {},
   "source": [
    "##### the trend line with the training data"
   ]
  },
  {
   "cell_type": "code",
   "execution_count": 34,
   "metadata": {},
   "outputs": [
    {
     "data": {
      "text/plain": [
       "<function matplotlib.pyplot.show(*args, **kw)>"
      ]
     },
     "execution_count": 34,
     "metadata": {},
     "output_type": "execute_result"
    },
    {
     "data": {
      "image/png": "[encoded data removed]",
      "text/plain": [
       "<Figure size 432x288 with 1 Axes>"
      ]
     },
     "metadata": {
      "needs_background": "light"
     },
     "output_type": "display_data"
    }
   ],
   "source": [
    "plt.scatter(xTrain, yTrain, color = 'red')\n",
    "plt.plot(xTrain, trendLine, color = 'blue')\n",
    "plt.title('Salary VS Experience (training set)')\n",
    "plt.xlabel('Years of experince')\n",
    "plt.ylabel('Salary')\n",
    "plt.show"
   ]
  },
  {
   "cell_type": "markdown",
   "metadata": {},
   "source": [
    "##### the trend line with the test data"
   ]
  },
  {
   "cell_type": "code",
   "execution_count": 35,
   "metadata": {},
   "outputs": [
    {
     "data": {
      "text/plain": [
       "<function matplotlib.pyplot.show(*args, **kw)>"
      ]
     },
     "execution_count": 35,
     "metadata": {},
     "output_type": "execute_result"
    },
    {
     "data": {
      "image/png": "[encoded data removed]",
      "text/plain": [
       "<Figure size 432x288 with 1 Axes>"
      ]
     },
     "metadata": {
      "needs_background": "light"
     },
     "output_type": "display_data"
    }
   ],
   "source": [
    "plt.scatter(xTest, yTest, color = 'red')\n",
    "plt.plot(xTrain, trendLine, color = 'blue')\n",
    "plt.title('Salary VS Experience (test set)')\n",
    "plt.xlabel('Years of experince')\n",
    "plt.ylabel('Salary')\n",
    "plt.show"
   ]
  },
  {
   "cell_type": "markdown",
   "metadata": {},
   "source": [
    "## Now let's use RMSE and R squared metrics to determine how good our predictions are"
   ]
  },
  {
   "cell_type": "markdown",
   "metadata": {},
   "source": [
    "##### creating prediction list"
   ]
  },
  {
   "cell_type": "code",
   "execution_count": 36,
   "metadata": {},
   "outputs": [],
   "source": [
    "def TestPredictions(xTest, coefficients):\n",
    "    yPred = []\n",
    "    for i in xTest:\n",
    "        yPred.append(i*coefficients[0] + coefficients[1])\n",
    "    return yPred"
   ]
  },
  {
   "cell_type": "markdown",
   "metadata": {},
   "source": [
    "##### calculating RMSE"
   ]
  },
  {
   "cell_type": "code",
   "execution_count": 37,
   "metadata": {},
   "outputs": [],
   "source": [
    "import math\n",
    "def RMSE(yPred, yTest):\n",
    "    return math.sqrt((sum((yPred - yTest)**2))/ len(yTest))"
   ]
  },
  {
   "cell_type": "code",
   "execution_count": 38,
   "metadata": {},
   "outputs": [
    {
     "name": "stdout",
     "output_type": "stream",
     "text": [
      "4585.415720467589\n"
     ]
    }
   ],
   "source": [
    "yPred = TestPredictions(xTest, coefficients)\n",
    "print(RMSE(yPred, yTest))"
   ]
  },
  {
   "cell_type": "markdown",
   "metadata": {},
   "source": [
    "##### note: the RMSE is in base units, which tell us that the standard deviation of the error are about 4585 USD"
   ]
  },
  {
   "cell_type": "markdown",
   "metadata": {},
   "source": [
    "##### calculate R squared"
   ]
  },
  {
   "cell_type": "code",
   "execution_count": 39,
   "metadata": {},
   "outputs": [
    {
     "name": "stdout",
     "output_type": "stream",
     "text": [
      "0.9791910966665737\n"
     ]
    }
   ],
   "source": [
    "def Rsquared(yTest, yPred, meanY):\n",
    "    squaredErrorFromLine = (yPred - yTest)**2\n",
    "    squaredErrorFromMeanY = (yPred - meanY)**2\n",
    "    sumSquaredFromLine = sum(squaredErrorFromLine)\n",
    "    sumsquaredFromMeanY = sum(squaredErrorFromMeanY)\n",
    "    return 1 - (sumSquaredFromLine / sumsquaredFromMeanY)\n",
    "\n",
    "print(Rsquared(yTest, yPred, meanY))"
   ]
  },
  {
   "cell_type": "code",
   "execution_count": null,
   "metadata": {},
   "outputs": [],
   "source": []
  }
 ],
 "metadata": {
  "kernelspec": {
   "display_name": "Python 3",
   "language": "python",
   "name": "python3"
  },
  "language_info": {
   "codemirror_mode": {
    "name": "ipython",
    "version": 3
   },
   "file_extension": ".py",
   "mimetype": "text/x-python",
   "name": "python",
   "nbconvert_exporter": "python",
   "pygments_lexer": "ipython3",
   "version": "3.7.6"
  }
 },
 "nbformat": 4,
 "nbformat_minor": 4
}
